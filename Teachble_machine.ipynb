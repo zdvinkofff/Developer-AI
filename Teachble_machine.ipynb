{
  "nbformat": 4,
  "nbformat_minor": 0,
  "metadata": {
    "colab": {
      "provenance": [],
      "authorship_tag": "ABX9TyPj8YvYpXw31v2jH3u+AZYa",
      "include_colab_link": true
    },
    "kernelspec": {
      "name": "python3",
      "display_name": "Python 3"
    },
    "language_info": {
      "name": "python"
    }
  },
  "cells": [
    {
      "cell_type": "markdown",
      "metadata": {
        "id": "view-in-github",
        "colab_type": "text"
      },
      "source": [
        "<a href=\"https://colab.research.google.com/github/zdvinkofff/Developer-AI/blob/main/Teachble_machine.ipynb\" target=\"_parent\"><img src=\"https://colab.research.google.com/assets/colab-badge.svg\" alt=\"Open In Colab\"/></a>"
      ]
    },
    {
      "cell_type": "markdown",
      "source": [
        "КЛАССИФИКАЦИЯ"
      ],
      "metadata": {
        "id": "KOZRrUtd3OcU"
      }
    },
    {
      "cell_type": "code",
      "execution_count": null,
      "metadata": {
        "colab": {
          "base_uri": "https://localhost:8080/"
        },
        "id": "TPwBFziCZyDq",
        "outputId": "3cb29081-28c1-4bcb-b619-71ffac1ecc2d"
      },
      "outputs": [
        {
          "output_type": "stream",
          "name": "stdout",
          "text": [
            "1/1 [==============================] - 1s 1s/step\n",
            "Class: 0 Без телефона\n",
            "Confidence score: 0.99993527\n"
          ]
        }
      ],
      "source": [
        "from keras.models import load_model\n",
        "from PIL import Image, ImageOps\n",
        "import numpy as np\n",
        "from PIL import Image\n",
        "import cv2\n",
        "from PIL.Image import LANCZOS\n",
        "\n",
        "np.set_printoptions(suppress=True)\n",
        "model = load_model('/content/keras_model.h5', compile=False)\n",
        "class_names = open('labels.txt', 'r').readlines()\n",
        "data = np.ndarray(shape=(1, 224, 224, 3), dtype=np.float32)\n",
        "image = Image.open('/content/pngegg (2).png').convert('RGB')\n",
        "size = (224, 224)\n",
        "image = ImageOps.fit(image, size, Image.Resampling.LANCZOS)\n",
        "image_array = np.asarray(image)\n",
        "normalized_image_array = (image_array.astype(np.float32) / 127.0) - 1\n",
        "data[0] = normalized_image_array\n",
        "prediction = model.predict(data)\n",
        "index = np.argmax(prediction)\n",
        "class_name = class_names[index]\n",
        "confidence_score = prediction[0][index]\n",
        "\n",
        "print('Class:', class_name, end='')\n",
        "print('Confidence score:', confidence_score)\n"
      ]
    },
    {
      "cell_type": "code",
      "source": [
        "!pip install Pillow==9.1.0\n",
        "import PIL.Image\n",
        "if not hasattr(PIL.Image, 'Resampling'):"
      ],
      "metadata": {
        "colab": {
          "base_uri": "https://localhost:8080/"
        },
        "id": "yC3oqY5LkMYZ",
        "outputId": "8e092811-9d4d-4fe3-981a-ad771e767a45"
      },
      "execution_count": null,
      "outputs": [
        {
          "output_type": "stream",
          "name": "stdout",
          "text": [
            "Looking in indexes: https://pypi.org/simple, https://us-python.pkg.dev/colab-wheels/public/simple/\n",
            "Requirement already satisfied: Pillow==9.1.0 in /usr/local/lib/python3.7/dist-packages (9.1.0)\n"
          ]
        }
      ]
    }
  ]
}