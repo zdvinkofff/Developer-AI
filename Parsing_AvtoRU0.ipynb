{
  "nbformat": 4,
  "nbformat_minor": 0,
  "metadata": {
    "colab": {
      "provenance": [],
      "authorship_tag": "ABX9TyOKcZxVDvuFnUYZK9GxN/6P",
      "include_colab_link": true
    },
    "kernelspec": {
      "name": "python3",
      "display_name": "Python 3"
    },
    "language_info": {
      "name": "python"
    }
  },
  "cells": [
    {
      "cell_type": "markdown",
      "metadata": {
        "id": "view-in-github",
        "colab_type": "text"
      },
      "source": [
        "<a href=\"https://colab.research.google.com/github/zdvinkofff/Developer-AI/blob/main/Parsing_AvtoRU0.ipynb\" target=\"_parent\"><img src=\"https://colab.research.google.com/assets/colab-badge.svg\" alt=\"Open In Colab\"/></a>"
      ]
    },
    {
      "cell_type": "code",
      "execution_count": null,
      "metadata": {
        "id": "VLUNYM1qyZbO"
      },
      "outputs": [],
      "source": [
        "import requests\n",
        "import bs4\n",
        "from bs4 import BeautifulSoup"
      ]
    },
    {
      "cell_type": "code",
      "source": [
        "headers ={'User-Agent': 'Mozilla/5.0 (Windows NT 10.0; Win64; x64) AppleWebKit/537.36 (KHTML, like Gecko) Chrome/109.0.0.0 Safari/537.36'}\n",
        "r = requests.get('https://cars.av.by/kia', headers=headers)\n",
        "\n",
        "r"
      ],
      "metadata": {
        "colab": {
          "base_uri": "https://localhost:8080/"
        },
        "id": "PIG9OiZ90PjJ",
        "outputId": "0e0b17eb-d848-4702-ecb5-c7ccd1174ed9"
      },
      "execution_count": null,
      "outputs": [
        {
          "output_type": "execute_result",
          "data": {
            "text/plain": [
              "<Response [200]>"
            ]
          },
          "metadata": {},
          "execution_count": 2
        }
      ]
    },
    {
      "cell_type": "code",
      "source": [
        "soup = bs4.BeautifulSoup(r.text, 'html5lib')"
      ],
      "metadata": {
        "id": "8cqQkgui3Vzj"
      },
      "execution_count": null,
      "outputs": []
    },
    {
      "cell_type": "code",
      "source": [
        "cars = []\n",
        "for i in soup.find_all('a', {'class':'listing-item__link'}):\n",
        "  cars.append('https://cars.av.by' + i.get('href'))\n",
        "cars\n"
      ],
      "metadata": {
        "colab": {
          "base_uri": "https://localhost:8080/"
        },
        "id": "Ri_KNmpq69Al",
        "outputId": "d1263c52-7777-46bc-a28a-7ec1cc371d3d"
      },
      "execution_count": null,
      "outputs": [
        {
          "output_type": "execute_result",
          "data": {
            "text/plain": [
              "['https://cars.av.by/kia/rio/103598453',\n",
              " 'https://cars.av.by/kia/shuma/103778521',\n",
              " 'https://cars.av.by/kia/sportage/103756906',\n",
              " 'https://cars.av.by/kia/sportage/103756869',\n",
              " 'https://cars.av.by/kia/rio/103758214',\n",
              " 'https://cars.av.by/kia/ceed/102575251',\n",
              " 'https://cars.av.by/kia/sportage/103766795',\n",
              " 'https://cars.av.by/kia/rio/103268524',\n",
              " 'https://cars.av.by/kia/rio/103711622',\n",
              " 'https://cars.av.by/kia/rio/102577157',\n",
              " 'https://cars.av.by/kia/rio/103111313',\n",
              " 'https://cars.av.by/kia/sorento/103757896',\n",
              " 'https://cars.av.by/kia/rio/102517213',\n",
              " 'https://cars.av.by/kia/stinger/103135852',\n",
              " 'https://cars.av.by/kia/rio/103744652',\n",
              " 'https://cars.av.by/kia/sportage/103779062',\n",
              " 'https://cars.av.by/kia/sorento/103261520',\n",
              " 'https://cars.av.by/kia/sportage/103767690',\n",
              " 'https://cars.av.by/kia/ceed/103743943',\n",
              " 'https://cars.av.by/kia/optima/102306492',\n",
              " 'https://cars.av.by/kia/sorento/103070527',\n",
              " 'https://cars.av.by/kia/carnival/103513735',\n",
              " 'https://cars.av.by/kia/ceed/103729114',\n",
              " 'https://cars.av.by/kia/niro/101387692',\n",
              " 'https://cars.av.by/kia/soulev/103094304']"
            ]
          },
          "metadata": {},
          "execution_count": 4
        }
      ]
    },
    {
      "cell_type": "code",
      "source": [
        "p = []\n",
        "test = cars[0]\n",
        "r = requests.get(test)\n",
        "soup1 = bs4.BeautifulSoup(r.text, 'html5lib')\n",
        "for j in soup1.find_all('div', {'class':'card__params'}):\n",
        "    print(j)\n",
        "    p.append(j)\n",
        "for j in soup1.find_all('div', {'class':'card__description'}):\n",
        "    print(j)\n",
        "    p.append(j)\n",
        "\n",
        ""
      ],
      "metadata": {
        "colab": {
          "base_uri": "https://localhost:8080/"
        },
        "id": "RjFahiOn7Rar",
        "outputId": "9db78f29-504a-40eb-f03b-1897dd2c5ed4"
      },
      "execution_count": null,
      "outputs": [
        {
          "output_type": "stream",
          "name": "stdout",
          "text": [
            "<div class=\"card__params\">2021 г.<!-- -->, <!-- -->автомат<!-- -->, <!-- -->1.6 л<!-- -->, <!-- -->бензин<!-- -->, <span>9 000 км</span></div>\n",
            "<div class=\"card__description\">седан<!-- -->, <!-- -->передний привод<!-- -->, <!-- -->красный</div>\n"
          ]
        }
      ]
    },
    {
      "cell_type": "code",
      "source": [
        "col = []\n",
        "val = []\n",
        "for j in p:\n",
        "  t = j.text\n",
        "  n = t.find(',')\n",
        "  col.append(t[0:n])\n",
        "  val.append(t[n+2:])\n",
        "print(col, val)"
      ],
      "metadata": {
        "colab": {
          "base_uri": "https://localhost:8080/"
        },
        "id": "pEWPT0bGLEpp",
        "outputId": "3cc06355-4071-4064-b339-62b9e8eb2031"
      },
      "execution_count": null,
      "outputs": [
        {
          "output_type": "stream",
          "name": "stdout",
          "text": [
            "['2021\\xa0г.', 'седан'] ['автомат, 1.6\\xa0л, бензин, 9\\u2009000\\xa0км', 'передний привод, красный']\n"
          ]
        }
      ]
    },
    {
      "cell_type": "code",
      "source": [
        "col_val = col + val\n",
        "col_val"
      ],
      "metadata": {
        "colab": {
          "base_uri": "https://localhost:8080/"
        },
        "id": "aVdqOt-Fml9b",
        "outputId": "52263acb-ec8d-494a-d101-35586ee9a48a"
      },
      "execution_count": null,
      "outputs": [
        {
          "output_type": "execute_result",
          "data": {
            "text/plain": [
              "['2021\\xa0г.',\n",
              " 'седан',\n",
              " 'автомат, 1.6\\xa0л, бензин, 9\\u2009000\\xa0км',\n",
              " 'передний привод, красный']"
            ]
          },
          "metadata": {},
          "execution_count": 7
        }
      ]
    }
  ]
}