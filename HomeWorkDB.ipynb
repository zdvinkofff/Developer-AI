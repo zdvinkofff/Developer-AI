{
  "nbformat": 4,
  "nbformat_minor": 0,
  "metadata": {
    "colab": {
      "provenance": [],
      "authorship_tag": "ABX9TyMq/OWINHpSze2l2/TcSDJk",
      "include_colab_link": true
    },
    "kernelspec": {
      "name": "python3",
      "display_name": "Python 3"
    },
    "language_info": {
      "name": "python"
    }
  },
  "cells": [
    {
      "cell_type": "markdown",
      "metadata": {
        "id": "view-in-github",
        "colab_type": "text"
      },
      "source": [
        "<a href=\"https://colab.research.google.com/github/zdvinkofff/Developer-AI/blob/main/HomeWorkDB.ipynb\" target=\"_parent\"><img src=\"https://colab.research.google.com/assets/colab-badge.svg\" alt=\"Open In Colab\"/></a>"
      ]
    },
    {
      "cell_type": "code",
      "execution_count": null,
      "metadata": {
        "colab": {
          "base_uri": "https://localhost:8080/"
        },
        "id": "D-KSEQVOo9tc",
        "outputId": "0555e35a-2885-4dad-a732-8840b35280b0"
      },
      "outputs": [
        {
          "output_type": "stream",
          "name": "stdout",
          "text": [
            "[(1, 'Cristiano Ronaldo', 37, 'MU'), (1, 'Brunu Fernandes', 27, 'MU'), (3, 'Mohamed Salah', 30, 'Liverpool')]\n"
          ]
        }
      ],
      "source": [
        "import pandas as pd\n",
        "import sqlite3\n",
        "db = sqlite3.connect('/content/fotballers.db')\n",
        "cursor = db.cursor()\n",
        "cursor.execute(\"\"\"CREATE TABLE IF NOT EXISTS important_players(user_id INTEGER, name TEXT PRIMARY KEY,  age INTEGER, club TEXT)\"\"\")\n",
        "data = [[1,'Cristiano Ronaldo',  37, 'MU'], [1,'Brunu Fernandes', 27, 'MU'], [2,'Mason Mount', 23, 'Chelsea'], [2,'Reese James', 23, 'Chelsea'],\n",
        "        [2,'Kepa', 23, 'Chelsea'], [3,'Mohamed Salah', 30, 'Liverpool']]\n",
        "cursor.executemany('INSERT OR REPLACE INTO important_players(user_id, name,  age, club) VALUES(?, ?, ?, ?)', data)\n",
        "db.commit()\n",
        "cursor.execute(\"\"\"CREATE TABLE IF NOT EXISTS price_players(user_id INTEGER, name TEXT PRIMARY KEY, price INTEGER)\"\"\")\n",
        "data2 = [[1,'Cristiano Ronaldo',  55000000], [1,'Brunu Fernandes', 80000000], [2,'Mason Mount', 70000000], [2,'Reese James', 45000000],\n",
        "        [2,'Kepa', 75000000], [3,'Mohamed Salah',80000000]]\n",
        "cursor.executemany('INSERT OR REPLACE INTO price_players VALUES(?, ?, ?)', data2)\n",
        "db.commit()\n",
        "query = cursor.execute(\"\"\"SELECT\n",
        "\timportant_players.user_id as user_id, important_players.name as players_name,\timportant_players.age as players_age, important_players.club as players_club,\n",
        "  price_players.price as players_price\n",
        "FROM important_players\n",
        "LEFT JOIN price_players ON price_players.name = important_players.name\"\"\")\n",
        "db.commit()\n",
        "cursor.fetchall()\n",
        "df = pd.DataFrame([(1, 'Cristiano Ronaldo', 37, 'MU', 55000000), (1, 'Brunu Fernandes', 27, 'MU', 80000000), (2, 'Mason Mount', 23, 'Chelsea', 70000000),\n",
        "(2, 'Reese James', 23, 'Chelsea', 45000000), (2, 'Kepa', 23, 'Chelsea', 75000000), (3, 'Mohamed Salah', 30, 'Liverpool', 80000000)],\n",
        "columns=['user_id', 'players_name', 'players_age', 'players_club', 'players_price'])\n",
        "df\n",
        "df = df.to_csv('footballers.csv')\n",
        "cursor.execute(\"SELECT * FROM important_players WHERE age > 23\")\n",
        "results = cursor.fetchall()\n",
        "print(results)\n",
        "\n"
      ]
    }
  ]
}