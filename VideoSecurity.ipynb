{
  "nbformat": 4,
  "nbformat_minor": 0,
  "metadata": {
    "colab": {
      "provenance": [],
      "authorship_tag": "ABX9TyOTp7NAThp6mBL1JJgFS7tm",
      "include_colab_link": true
    },
    "kernelspec": {
      "name": "python3",
      "display_name": "Python 3"
    },
    "language_info": {
      "name": "python"
    }
  },
  "cells": [
    {
      "cell_type": "markdown",
      "metadata": {
        "id": "view-in-github",
        "colab_type": "text"
      },
      "source": [
        "<a href=\"https://colab.research.google.com/github/zdvinkofff/Developer-AI/blob/main/VideoSecurity.ipynb\" target=\"_parent\"><img src=\"https://colab.research.google.com/assets/colab-badge.svg\" alt=\"Open In Colab\"/></a>"
      ]
    },
    {
      "cell_type": "markdown",
      "source": [
        "Программа на Python, которая будет определять наличие или отсутствие человека в кадре без использования машинного обучения."
      ],
      "metadata": {
        "id": "WpkrmIODyNoX"
      }
    },
    {
      "cell_type": "code",
      "execution_count": null,
      "metadata": {
        "id": "pgNxl6qTyHL4"
      },
      "outputs": [],
      "source": [
        "import cv2\n",
        "cap = cv2.VideoCapture(0)\n",
        "_, background = cap.read()\n",
        "background = cv2.GaussianBlur(background, (21, 21), 0)\n",
        "while True:\n",
        "    ret, frame = cap.read()\n",
        "    frame_blur = cv2.GaussianBlur(frame, (21, 21), 0)\n",
        "\n",
        "    # Вычислим разницу между текущим кадром и фоном\n",
        "    diff = cv2.absdiff(background, frame_blur)\n",
        "\n",
        "    # Если разница больше определенного порога, значит в кадре есть человек\n",
        "    if cv2.countNonZero(diff) > 1000:\n",
        "        print(\"Человек обнаружен!\")\n",
        "    else:\n",
        "        print(\"Человека нет в кадре\")\n",
        "\n",
        "    cv2.imshow('Видеонаблюдение', frame)\n",
        "\n",
        "    # Выйти из цикла при нажатии 'q'\n",
        "    if cv2.waitKey(1) & 0xFF == ord('q'):\n",
        "        break\n",
        "\n",
        "# Освободить ресурсы\n",
        "cap.release()\n",
        "cv2.destroyAllWindows()\n"
      ]
    }
  ]
}