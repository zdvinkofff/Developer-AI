{
  "nbformat": 4,
  "nbformat_minor": 0,
  "metadata": {
    "colab": {
      "provenance": [],
      "authorship_tag": "ABX9TyNQbjliFVkRSX3fTWIHF/Zm",
      "include_colab_link": true
    },
    "kernelspec": {
      "name": "python3",
      "display_name": "Python 3"
    },
    "language_info": {
      "name": "python"
    }
  },
  "cells": [
    {
      "cell_type": "markdown",
      "metadata": {
        "id": "view-in-github",
        "colab_type": "text"
      },
      "source": [
        "<a href=\"https://colab.research.google.com/github/zdvinkofff/Developer-AI/blob/main/%D0%91%D0%B8%D0%B1%D0%BB%D0%B8%D0%BE%D1%82%D0%B5%D0%BA%D0%B8_%D1%80%D1%83%D1%81%D1%81%D0%BA%D0%BE%D0%B3%D0%BE_%D1%8F%D0%B7%D1%8B%D0%BA%D0%B0.ipynb\" target=\"_parent\"><img src=\"https://colab.research.google.com/assets/colab-badge.svg\" alt=\"Open In Colab\"/></a>"
      ]
    },
    {
      "cell_type": "markdown",
      "source": [
        "pymystem3\n",
        "pymorphy2\n",
        "nltk\n",
        "spaCy\n",
        "Polyglot"
      ],
      "metadata": {
        "id": "XexCZw4cTldL"
      }
    },
    {
      "cell_type": "code",
      "source": [
        "!pip install polyglot\n",
        "\n",
        "\n",
        "from polyglot.detect import Detector\n",
        "ru_text = \"Мойка вашего авто за двадцать минут\"\n",
        "detector = Detector(ru_text)\n",
        "print(detector.language)\n",
        "\n",
        "\n",
        "\n"
      ],
      "metadata": {
        "id": "rbk7LGs5Tni8"
      },
      "execution_count": null,
      "outputs": []
    },
    {
      "cell_type": "code",
      "source": [
        "!pip install pymystem3\n",
        "\n",
        "from pymystem3 import Mystem\n",
        "text = \"Красивая мама красиво мыла раму\"\n",
        "m = Mystem()\n",
        "lemmas = m.lemmatize(text)\n",
        "print(''.join(lemmas))\n"
      ],
      "metadata": {
        "id": "YOdDlu9Wfxgg"
      },
      "execution_count": null,
      "outputs": []
    },
    {
      "cell_type": "markdown",
      "source": [
        "https://pypi.org/project/pymystem3/\n",
        "https://spacy.io/usage\n",
        "https://polyglot.readthedocs.io/en/latest/index.html\n"
      ],
      "metadata": {
        "id": "pG3I3j_sURJV"
      }
    }
  ]
}