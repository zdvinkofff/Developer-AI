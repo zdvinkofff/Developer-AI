{
  "nbformat": 4,
  "nbformat_minor": 0,
  "metadata": {
    "colab": {
      "provenance": [],
      "authorship_tag": "ABX9TyMx8et6vU2NdkcrFq7MfQdU",
      "include_colab_link": true
    },
    "kernelspec": {
      "name": "python3",
      "display_name": "Python 3"
    },
    "language_info": {
      "name": "python"
    }
  },
  "cells": [
    {
      "cell_type": "markdown",
      "metadata": {
        "id": "view-in-github",
        "colab_type": "text"
      },
      "source": [
        "<a href=\"https://colab.research.google.com/github/zdvinkofff/Developer-AI/blob/main/OPENCV3.ipynb\" target=\"_parent\"><img src=\"https://colab.research.google.com/assets/colab-badge.svg\" alt=\"Open In Colab\"/></a>"
      ]
    },
    {
      "cell_type": "code",
      "execution_count": 1,
      "metadata": {
        "id": "luyS6PMLqDGd"
      },
      "outputs": [],
      "source": [
        "import cv2\n",
        "from matplotlib import pyplot as plt\n",
        "import numpy as np\n",
        "from google.colab.patches import cv2_imshow\n",
        "import glob\n",
        "pictures = glob.glob('*.png')\n",
        "pictures\n",
        "for i in pictures:\n",
        "  images = cv2.imread(i)\n",
        "  cv2_imshow(images)\n",
        "  font = cv2.FONT_HERSHEY_COMPLEX\n",
        "  cv2.putText(images, 'ЗДЕСЬ БУДЕТ ТЕКСТ', (50, 100), font, 1, color=(0, 255, 0), thickness=4)\n",
        "  cv2_imshow(images)\n",
        "  size_img = cv2.resize(images, (350, 400))\n",
        "  cv2_imshow(size_img)\n",
        "  zero_img = np.zeros(images.shape[:2], dtype='uint8')\n",
        "  circle = cv2.circle(images.copy(), (500, 500), 100, 255, -1)\n",
        "  cv2_imshow(circle)"
      ]
    }
  ]
}